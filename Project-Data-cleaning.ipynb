{
 "cells": [
  {
   "cell_type": "code",
   "execution_count": 4,
   "id": "069e321f",
   "metadata": {},
   "outputs": [
    {
     "name": "stdout",
     "output_type": "stream",
     "text": [
      "Data exported successfully to /Users/saniahassan/Downloads/Glassdoor_salary_data_cleaned.csv\n"
     ]
    }
   ],
   "source": [
    "import pandas as pd \n",
    "\n",
    "# Assuming 'glassdoor_jobs.csv' is in the Downloads folder of the current user's home directory\n",
    "# Correct the path by including a leading slash and using the home directory shortcut\n",
    "df = pd.read_csv('/Users/saniahassan/Downloads/glassdoor_jobs.csv')\n",
    "\n",
    "# Salary parsing\n",
    "df['hourly'] = df['Salary Estimate'].apply(lambda x: 1 if 'per hour' in x.lower() else 0)\n",
    "df['employer_provided'] = df['Salary Estimate'].apply(lambda x: 1 if 'employer provided salary:' in x.lower() else 0)\n",
    "\n",
    "# Filter out unwanted salary estimates\n",
    "df = df[df['Salary Estimate'] != '-1']\n",
    "salary = df['Salary Estimate'].apply(lambda x: x.split('(')[0])\n",
    "minus_Kd = salary.apply(lambda x: x.replace('K', '').replace('$', ''))\n",
    "\n",
    "min_hr = minus_Kd.apply(lambda x: x.lower().replace('per hour', '').replace('employer provided salary:', ''))\n",
    "\n",
    "df['min_salary'] = min_hr.apply(lambda x: int(x.split('-')[0]))\n",
    "df['max_salary'] = min_hr.apply(lambda x: int(x.split('-')[1]))\n",
    "df['avg_salary'] = (df['min_salary'] + df['max_salary']) / 2\n",
    "\n",
    "# Company name text only\n",
    "df['company_txt'] = df.apply(lambda x: x['Company Name'][:-3] if x['Rating'] >= 0 else x['Company Name'], axis=1)\n",
    "\n",
    "# State field\n",
    "df['job_state'] = df['Location'].apply(lambda x: x.split(',')[1].strip())\n",
    "df['same_state'] = df.apply(lambda x: 1 if x['Location'] == x['Headquarters'] else 0, axis=1)\n",
    "\n",
    "# Age of company\n",
    "df['age'] = df['Founded'].apply(lambda x: 2023 - x if x > 0 else x)\n",
    "\n",
    "# Parsing job description for keywords\n",
    "df['python_yn'] = df['Job Description'].apply(lambda x: 1 if 'python' in x.lower() else 0)\n",
    "df['R_yn'] = df['Job Description'].apply(lambda x: 1 if 'r studio' in x.lower() or 'r-studio' in x.lower() else 0)\n",
    "df['spark'] = df['Job Description'].apply(lambda x: 1 if 'spark' in x.lower() else 0)\n",
    "df['aws'] = df['Job Description'].apply(lambda x: 1 if 'aws' in x.lower() else 0)\n",
    "df['excel'] = df['Job Description'].apply(lambda x: 1 if 'excel' in x.lower() else 0)\n",
    "\n",
    "# Export to local computer in CSV format\n",
    "# Make sure the path is correct and accessible\n",
    "output_path = '/Users/saniahassan/Downloads/Glassdoor_salary_data_cleaned.csv'\n",
    "df.to_csv(output_path, index=False)\n",
    "\n",
    "print(\"Data exported successfully to\", output_path)\n"
   ]
  },
  {
   "cell_type": "code",
   "execution_count": null,
   "id": "1f59ad14",
   "metadata": {},
   "outputs": [],
   "source": []
  }
 ],
 "metadata": {
  "kernelspec": {
   "display_name": "Python 3 (ipykernel)",
   "language": "python",
   "name": "python3"
  },
  "language_info": {
   "codemirror_mode": {
    "name": "ipython",
    "version": 3
   },
   "file_extension": ".py",
   "mimetype": "text/x-python",
   "name": "python",
   "nbconvert_exporter": "python",
   "pygments_lexer": "ipython3",
   "version": "3.11.4"
  }
 },
 "nbformat": 4,
 "nbformat_minor": 5
}
